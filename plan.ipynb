{
 "cells": [
  {
   "cell_type": "code",
   "execution_count": null,
   "metadata": {},
   "outputs": [],
   "source": [
    "import os\n",
    "import gc\n",
    "import pickle\n",
    "import statsmodels.api as sm\n",
    "import pandas as pd\n",
    "import numpy as np\n",
    "import math\n",
    "import seaborn as sns\n",
    "from seaborn_analyzer import regplot\n",
    "%matplotlib inline\n",
    "import matplotlib.pyplot as plt\n",
    "import matplotlib.dates as mdates\n",
    "import japanize_matplotlib\n",
    "from openpyxl import load_workbook\n",
    "import warnings\n",
    "warnings.filterwarnings('ignore', category=UserWarning, module='matplotlib')\n",
    "from datetime import datetime, timedelta\n",
    "from scipy import stats\n",
    "from scipy.optimize import minimize_scalar\n",
    "import pulp\n",
    "from pulp import LpProblem, LpMinimize, LpVariable, lpSum\n",
    "# pd.options.display.max_rows = True"
   ]
  },
  {
   "attachments": {},
   "cell_type": "markdown",
   "metadata": {},
   "source": [
    "#### 元データの読み出し"
   ]
  },
  {
   "cell_type": "code",
   "execution_count": null,
   "metadata": {},
   "outputs": [],
   "source": [
    "df = pd.read_excel('/workspaces/data/plan/plan.xlsx',header=1)\n",
    "df = df[['日付', 'ip', 'ip_max', 'st', 'st_max', 'ha', 'ha_max']]\n",
    "df.columns = ['time', 'ip', 'ip_max', 'st', 'st_max', 'ha', 'ha_max']\n",
    "df['time'] = pd.to_datetime(df['time'], format='%Y%m%d')\n",
    "df = df.set_index('time')\n",
    "df = df.round({'ip': 0,\n",
    "                'st': 0,\n",
    "                'ha': 0})\n",
    "df = df.fillna(0)"
   ]
  },
  {
   "attachments": {},
   "cell_type": "markdown",
   "metadata": {},
   "source": [
    "#### テストデータ読み出し"
   ]
  },
  {
   "cell_type": "code",
   "execution_count": null,
   "metadata": {},
   "outputs": [],
   "source": [
    "df = pd.read_csv('/workspaces/dataset/test_data.csv')\n",
    "df = df[['time', 'ip', 'ip_max', 'st', 'ha']]\n",
    "df['time'] = pd.to_datetime(df['time'], format='%Y-%m-%d')\n",
    "df = df.set_index('time')"
   ]
  },
  {
   "attachments": {},
   "cell_type": "markdown",
   "metadata": {},
   "source": [
    "#### テスト用サンプルデータ作成"
   ]
  },
  {
   "cell_type": "code",
   "execution_count": null,
   "metadata": {},
   "outputs": [],
   "source": [
    "start = '2023-04-1'\n",
    "end = '2023-7-4'\n",
    "date_range = pd.date_range(start=start, end=end, freq='D')\n",
    "a = np.round(np.random.uniform(low=12000, high=27000, size=27))\n",
    "b = np.round(np.random.uniform(low=25000, high=40000, size=14))\n",
    "c = np.round(np.random.uniform(low=25000, high=50000, size=3))\n",
    "d = np.round(np.random.uniform(low=14000, high=18000, size=12))\n",
    "e = np.round(np.random.uniform(low=29000, high=44000, size=20))\n",
    "f = np.round(np.random.uniform(low=18000, high=21000, size=19))\n",
    "g = np.concatenate([a, b, c, d, e, f], axis=0)\n",
    "\n",
    "a = np.full(shape=27,fill_value=32000)\n",
    "b = np.full(shape=14,fill_value=38000)\n",
    "c = np.full(shape=3,fill_value=38000)\n",
    "d = np.full(shape=12,fill_value=32000)\n",
    "e = np.full(shape=20,fill_value=38000)\n",
    "f = np.full(shape=19,fill_value=32000)\n",
    "h = np.concatenate([a, b, c, d, e, f], axis=0)\n",
    "\n",
    "data = {'time': date_range,\n",
    "        'ip': g,\n",
    "        'ip_max': h,\n",
    "        'st':np.zeros(len(date_range)),\n",
    "        'ha': np.zeros(len(date_range))}\n",
    "\n",
    "df = pd.DataFrame(data)\n",
    "df.to_csv('/workspaces/dataset/test_data.csv', index=False)"
   ]
  },
  {
   "attachments": {},
   "cell_type": "markdown",
   "metadata": {},
   "source": [
    "#### MILPによる計画最適化の実行"
   ]
  },
  {
   "cell_type": "code",
   "execution_count": null,
   "metadata": {},
   "outputs": [],
   "source": [
    "def milp_optimization(Y_input: pd.Series, X_max_input: pd.Series, w1=0.1, w2=1, w3=1, w4=0.2, w5=0.05, w6=0.01):\n",
    "    # Convert pd.Series to numpy arrays\n",
    "    Y = Y_input.to_numpy()\n",
    "    X_max = X_max_input.to_numpy()\n",
    "    \n",
    "    # Define problem\n",
    "    prob = pulp.LpProblem(\"Optimization\", pulp.LpMinimize)\n",
    "\n",
    "    # Define variables and initial values\n",
    "    n = len(Y)\n",
    "    X = [pulp.LpVariable(f'X_{i}', lowBound=0, upBound=X_max[i], cat=pulp.LpInteger) for i in range(n)]\n",
    "    Cum = [pulp.LpVariable(f'Cum_{i}', lowBound=0, cat=pulp.LpInteger) for i in range(n)]\n",
    "    Max_Cum = pulp.LpVariable('Max_Cum', lowBound=0, cat=pulp.LpInteger)\n",
    "    Max_X = pulp.LpVariable('Max_X', lowBound=0, cat=pulp.LpInteger)\n",
    "    z = [pulp.LpVariable(f'z_{i}', cat=pulp.LpBinary) for i in range(n)]\n",
    "    delta = [pulp.LpVariable(f\"delta_{i}\", 0, None) for i in range(n)]\n",
    "\n",
    "    # Initialize variables\n",
    "    for i in range(n):\n",
    "        X[i].setInitialValue(X_max[i])\n",
    "        if i == 0:\n",
    "            Cum[0].setInitialValue(max(0, Y[0] - X[0].value()))\n",
    "        else:\n",
    "            Cum[i].setInitialValue(max(0, Cum[i - 1].value() + Y[i] - X[i].value()))\n",
    "\n",
    "    # Define objective function\n",
    "    prob += w1 * Max_Cum + w2 * Max_X + w3 * (pulp.lpSum(X)/n) + w4 * (pulp.lpSum(Cum)/n) + w5 * pulp.lpSum(Y - X), \"Objective\"\n",
    "\n",
    "    # Define constraints\n",
    "    M = 1000000  # Large positive constant\n",
    "    for i in range(n):\n",
    "        # start = max(i - 3, 0)\n",
    "        # end = min(i + 4, n)\n",
    "        # prob += delta[i] >= X[i] - (pulp.lpSum(X[j] for j in range(start, end)) / (end - start))\n",
    "        # prob += delta[i] >= (pulp.lpSum(X[j] for j in range(start, end)) / (end - start)) - X[i]\n",
    "        if i == 0:\n",
    "            prob += Cum[0] >= Y[0] - X[0]\n",
    "            prob += Cum[0] >= 0\n",
    "            prob += Cum[0] <= Y[0] - X[0] + M * (1 - z[0])\n",
    "            prob += Cum[0] <= M * z[0]\n",
    "        else:\n",
    "            prob += Cum[i] >= Cum[i-1] + Y[i] - X[i]\n",
    "            prob += Cum[i] >= 0\n",
    "            prob += Cum[i] <= Cum[i-1] + Y[i] - X[i] + M * (1 - z[i])\n",
    "            prob += Cum[i] <= M * z[i]\n",
    "\n",
    "        prob += Max_Cum >= Cum[i]\n",
    "        prob += Max_X >= X[i]\n",
    "        \n",
    "    prob += pulp.lpSum(X - Y) <= 0\n",
    "    # prob += pulp.abs(pulp.lpSum(Y) - pulp.liSum(X)  )\n",
    "\n",
    "    # Solve the problem using SCIP solver\n",
    "    scip_solver = pulp.SCIP(msg=True)\n",
    "    prob.solve(scip_solver)\n",
    "\n",
    "    result = pd.DataFrame({'time': Y_input.index, 'Y': Y, 'X': [X[i].value() for i in range(n)], 'Cum': [Cum[i].value() for i in range(n)]})\n",
    "\n",
    "    return result, Max_Cum, Max_X\n",
    "\n",
    "result_df, _, _ = milp_optimization(df['ip'], df['ip_max'])\n",
    "sns.lineplot(data=result_df)"
   ]
  }
 ],
 "metadata": {
  "kernelspec": {
   "display_name": "base",
   "language": "python",
   "name": "python3"
  },
  "language_info": {
   "codemirror_mode": {
    "name": "ipython",
    "version": 3
   },
   "file_extension": ".py",
   "mimetype": "text/x-python",
   "name": "python",
   "nbconvert_exporter": "python",
   "pygments_lexer": "ipython3",
   "version": "3.9.13"
  },
  "orig_nbformat": 4
 },
 "nbformat": 4,
 "nbformat_minor": 2
}
